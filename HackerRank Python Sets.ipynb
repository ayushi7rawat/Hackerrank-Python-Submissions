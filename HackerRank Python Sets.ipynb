{
 "cells": [
  {
   "cell_type": "markdown",
   "metadata": {},
   "source": [
    "### Set.add() solution | Python | HackerRank"
   ]
  },
  {
   "cell_type": "code",
   "execution_count": 1,
   "metadata": {},
   "outputs": [
    {
     "name": "stdout",
     "output_type": "stream",
     "text": [
      "3\n",
      "qq\n",
      "ww\n",
      "qq\n",
      "2\n"
     ]
    }
   ],
   "source": [
    "#method-1\n",
    "n=int(input())\n",
    "l1=set()\n",
    "for i in range(0,n):\n",
    "    i=input()\n",
    "    l1.add(i)\n",
    "\n",
    "print(len(l1))"
   ]
  },
  {
   "cell_type": "code",
   "execution_count": 4,
   "metadata": {},
   "outputs": [
    {
     "name": "stdout",
     "output_type": "stream",
     "text": [
      "3\n",
      "qq\n",
      "ww\n",
      "q\n",
      "3\n"
     ]
    }
   ],
   "source": [
    "#method-2\n",
    "n=int(input())\n",
    "l1=[]\n",
    "for i in range(0,n):\n",
    "    i=input()\n",
    "    l1.append(i)\n",
    "    \n",
    "s1=set(l1)\n",
    "print(len(s1))"
   ]
  },
  {
   "cell_type": "code",
   "execution_count": null,
   "metadata": {},
   "outputs": [],
   "source": [
    "#method-3\n",
    "print(len(set([str(input()) for x in range(int(input()))])))"
   ]
  },
  {
   "cell_type": "markdown",
   "metadata": {},
   "source": [
    "### Introduction to Sets problem solution | Python | HackerRank"
   ]
  },
  {
   "cell_type": "code",
   "execution_count": null,
   "metadata": {},
   "outputs": [],
   "source": [
    "def average(array):\n",
    "    avg = sum(set(array))/len(set(array))\n",
    "    return avg\n",
    "\n",
    "if __name__ == '__main__':\n",
    "    n = int(input())\n",
    "    arr = list(map(int, input().split()))\n",
    "    result = average(arr)\n",
    "    print(result)"
   ]
  },
  {
   "cell_type": "markdown",
   "metadata": {},
   "source": [
    "### Set.union() Operation solution | Python | HackerRank"
   ]
  },
  {
   "cell_type": "code",
   "execution_count": null,
   "metadata": {},
   "outputs": [],
   "source": [
    "#taking n input in list in multiple lines\n",
    "n1=int(input())\n",
    "l1=[]\n",
    "for i in range(1,n1+1):\n",
    "    ele=int(input().split())\n",
    "    l1.append(ele)\n",
    "print(l1)   \n",
    "n2=int(input())\n",
    "l2=[]\n",
    "for i in range(1,n2+1):\n",
    "    ele=int(input().split())\n",
    "    l2.append(ele)\n",
    "print(l2)\n",
    "print(len(set(l1)|set(l2)))"
   ]
  },
  {
   "cell_type": "code",
   "execution_count": 4,
   "metadata": {},
   "outputs": [
    {
     "name": "stdout",
     "output_type": "stream",
     "text": [
      "3\n",
      "1 2 3\n",
      "4\n",
      "1 4 5 6\n",
      "6\n"
     ]
    }
   ],
   "source": [
    "#taking n input in list in single line\n",
    "n1 = int(input())  \n",
    "l1 = input().split(\" \")            \n",
    "l1=[int(i) for i in l1]\n",
    "\n",
    "n2 = int(input())   \n",
    "l2 = input().split(\" \")              \n",
    "l2=[int(i) for i in l2]\n",
    "\n",
    "print(len(set(l1)|set(l2)))"
   ]
  },
  {
   "cell_type": "markdown",
   "metadata": {},
   "source": [
    "### Set .difference() Operation solution | Python | HackerRank"
   ]
  },
  {
   "cell_type": "code",
   "execution_count": 6,
   "metadata": {},
   "outputs": [
    {
     "name": "stdout",
     "output_type": "stream",
     "text": [
      "3\n",
      "1 2 3\n",
      "4\n",
      "2 4 5 6\n",
      "2\n"
     ]
    }
   ],
   "source": [
    "#taking n input in list in single line\n",
    "n1 = int(input())  \n",
    "l1 = input().split(\" \")            \n",
    "l1=[int(i) for i in l1]\n",
    "\n",
    "n2 = int(input())   \n",
    "l2 = input().split(\" \")              \n",
    "l2=[int(i) for i in l2]\n",
    "\n",
    "print(len(set(l1)-set(l2)))"
   ]
  },
  {
   "cell_type": "markdown",
   "metadata": {},
   "source": [
    "### Set .symmetric_difference() Operation solution | Python | HackerRank"
   ]
  },
  {
   "cell_type": "code",
   "execution_count": null,
   "metadata": {},
   "outputs": [],
   "source": [
    "#taking n input in list in single line\n",
    "n1 = int(input())  \n",
    "l1 = input().split(\" \")            \n",
    "l1=[int(i) for i in l1]\n",
    "\n",
    "n2 = int(input())   \n",
    "l2 = input().split(\" \")              \n",
    "l2=[int(i) for i in l2]\n",
    "\n",
    "print(len(set(l1)^set(l2)))"
   ]
  },
  {
   "cell_type": "code",
   "execution_count": 7,
   "metadata": {},
   "outputs": [],
   "source": [
    "### Set .symmetric_difference() Operation solution | Python | HackerRank"
   ]
  },
  {
   "cell_type": "code",
   "execution_count": 22,
   "metadata": {},
   "outputs": [
    {
     "name": "stdout",
     "output_type": "stream",
     "text": [
      "4\n",
      "2 4 5 9\n",
      "4\n",
      "2 4 11 12\n",
      "[5, 9, 11, 12]\n",
      "5\n",
      "9\n",
      "11\n",
      "12\n"
     ]
    }
   ],
   "source": [
    "#taking n input in list in single line\n",
    "n1 = int(input())  \n",
    "l1 = input().split(\" \")            \n",
    "l1=[int(i) for i in l1]\n",
    "\n",
    "n2 = int(input())   \n",
    "l2 = input().split(\" \")              \n",
    "l2=[int(i) for i in l2]\n",
    "\n",
    "s1=sorted(set(l1)^set(l2))\n",
    "\n",
    "print (s1)\n",
    "\n",
    "for i in s1:\n",
    "    print(i)"
   ]
  },
  {
   "cell_type": "markdown",
   "metadata": {},
   "source": [
    "### Set .intersection() Operation solution | Python | HackerRank"
   ]
  },
  {
   "cell_type": "code",
   "execution_count": 23,
   "metadata": {},
   "outputs": [
    {
     "name": "stdout",
     "output_type": "stream",
     "text": [
      "9\n",
      "1 2 3 4 5 6 7 8 9\n",
      "10\n",
      "10 1 2 3 11 21 55 6 8\n",
      "5\n"
     ]
    }
   ],
   "source": [
    "n1 = int(input())  \n",
    "l1 = input().split(\" \")            \n",
    "l1=[int(i) for i in l1]\n",
    "\n",
    "n2 = int(input())   \n",
    "l2 = input().split(\" \")              \n",
    "l2=[int(i) for i in l2]\n",
    "\n",
    "print(len(set(l1)&set(l2)))"
   ]
  },
  {
   "cell_type": "code",
   "execution_count": 24,
   "metadata": {},
   "outputs": [
    {
     "name": "stdout",
     "output_type": "stream",
     "text": [
      "HackerRank.com presents \"Pythonist 2\"\n",
      "HackerRank.com presents \"Pythonist 2\"\n"
     ]
    }
   ],
   "source": [
    "def swap_case(s):\n",
    "    for i in s:\n",
    "        if i.islower():\n",
    "            i=i.upper()\n",
    "        else:\n",
    "            i.lower()\n",
    "    return s\n",
    "\n",
    "if __name__ == '__main__':\n",
    "    s = input()\n",
    "    result = swap_case(s)\n",
    "    print(result)"
   ]
  },
  {
   "cell_type": "code",
   "execution_count": 28,
   "metadata": {},
   "outputs": [
    {
     "name": "stdout",
     "output_type": "stream",
     "text": [
      "HackerRank.com presents \"Pythonist 2\"\n"
     ]
    }
   ],
   "source": [
    "s='HackerRank.com presents \"Pythonist 2\"'\n",
    "for i in s:\n",
    "        if i.islower:\n",
    "            i=i.upper()\n",
    "        else:\n",
    "            i.lower()\n",
    "print(s)"
   ]
  },
  {
   "cell_type": "code",
   "execution_count": 30,
   "metadata": {},
   "outputs": [
    {
     "name": "stdout",
     "output_type": "stream",
     "text": [
      "['A', 'C', 'K', 'E', 'R', 'A', 'N', 'K', 'C', 'O', 'M', 'P', 'R', 'E', 'S', 'E', 'N', 'T', 'S', 'Y', 'T', 'H', 'O', 'N', 'I', 'S', 'T']\n"
     ]
    }
   ],
   "source": [
    "s='HackerRank.com presents \"Pythonist 2\"'\n",
    "s=[c.upper() for c in s if c.islower()]\n",
    "print(s)"
   ]
  },
  {
   "cell_type": "code",
   "execution_count": null,
   "metadata": {},
   "outputs": [],
   "source": []
  }
 ],
 "metadata": {
  "kernelspec": {
   "display_name": "Python 3",
   "language": "python",
   "name": "python3"
  },
  "language_info": {
   "codemirror_mode": {
    "name": "ipython",
    "version": 3
   },
   "file_extension": ".py",
   "mimetype": "text/x-python",
   "name": "python",
   "nbconvert_exporter": "python",
   "pygments_lexer": "ipython3",
   "version": "3.7.6"
  }
 },
 "nbformat": 4,
 "nbformat_minor": 4
}
