{
 "cells": [
  {
   "cell_type": "markdown",
   "metadata": {},
   "source": [
    "### Set.add() solution | Python | HackerRank"
   ]
  },
  {
   "cell_type": "code",
   "execution_count": 1,
   "metadata": {},
   "outputs": [
    {
     "name": "stdout",
     "output_type": "stream",
     "text": [
      "3\n",
      "qq\n",
      "ww\n",
      "qq\n",
      "2\n"
     ]
    }
   ],
   "source": [
    "#method-1\n",
    "n=int(input())\n",
    "l1=set()\n",
    "for i in range(0,n):\n",
    "    i=input()\n",
    "    l1.add(i)\n",
    "\n",
    "print(len(l1))"
   ]
  },
  {
   "cell_type": "code",
   "execution_count": 4,
   "metadata": {},
   "outputs": [
    {
     "name": "stdout",
     "output_type": "stream",
     "text": [
      "3\n",
      "qq\n",
      "ww\n",
      "q\n",
      "3\n"
     ]
    }
   ],
   "source": [
    "#method-2\n",
    "n=int(input())\n",
    "l1=[]\n",
    "for i in range(0,n):\n",
    "    i=input()\n",
    "    l1.append(i)\n",
    "    \n",
    "s1=set(l1)\n",
    "print(len(s1))"
   ]
  },
  {
   "cell_type": "code",
   "execution_count": null,
   "metadata": {},
   "outputs": [],
   "source": [
    "#method-3\n",
    "print(len(set([str(input()) for x in range(int(input()))])))"
   ]
  },
  {
   "cell_type": "markdown",
   "metadata": {},
   "source": [
    "### Introduction to Sets problem solution | Python | HackerRank"
   ]
  },
  {
   "cell_type": "code",
   "execution_count": null,
   "metadata": {},
   "outputs": [],
   "source": [
    "def average(array):\n",
    "    avg = sum(set(array))/len(set(array))\n",
    "    return avg\n",
    "\n",
    "if __name__ == '__main__':\n",
    "    n = int(input())\n",
    "    arr = list(map(int, input().split()))\n",
    "    result = average(arr)\n",
    "    print(result)"
   ]
  },
  {
   "cell_type": "markdown",
   "metadata": {},
   "source": [
    "### Set.union() Operation solution | Python | HackerRank"
   ]
  },
  {
   "cell_type": "code",
   "execution_count": null,
   "metadata": {},
   "outputs": [],
   "source": [
    "#taking n input in list in multiple lines\n",
    "n1=int(input())\n",
    "l1=[]\n",
    "for i in range(1,n1+1):\n",
    "    ele=int(input().split())\n",
    "    l1.append(ele)\n",
    "print(l1)   \n",
    "n2=int(input())\n",
    "l2=[]\n",
    "for i in range(1,n2+1):\n",
    "    ele=int(input().split())\n",
    "    l2.append(ele)\n",
    "print(l2)\n",
    "print(len(set(l1)|set(l2)))"
   ]
  },
  {
   "cell_type": "code",
   "execution_count": null,
   "metadata": {},
   "outputs": [],
   "source": [
    "#taking n input in list in single line\n",
    "n1 = int(input())  \n",
    "l1 = input().split(\" \")            \n",
    "l1=[int(i) for i in l1]\n",
    "\n",
    "n2 = int(input())   \n",
    "l2 = input().split(\" \")              \n",
    "l2=[int(i) for i in l2]\n",
    "\n",
    "print(len(set(l1)|set(l2)))"
   ]
  },
  {
   "cell_type": "markdown",
   "metadata": {},
   "source": [
    "### Set.union() Operation solution | Python | HackerRank"
   ]
  },
  {
   "cell_type": "code",
   "execution_count": null,
   "metadata": {},
   "outputs": [],
   "source": []
  }
 ],
 "metadata": {
  "kernelspec": {
   "display_name": "Python 3",
   "language": "python",
   "name": "python3"
  },
  "language_info": {
   "codemirror_mode": {
    "name": "ipython",
    "version": 3
   },
   "file_extension": ".py",
   "mimetype": "text/x-python",
   "name": "python",
   "nbconvert_exporter": "python",
   "pygments_lexer": "ipython3",
   "version": "3.7.6"
  }
 },
 "nbformat": 4,
 "nbformat_minor": 4
}
